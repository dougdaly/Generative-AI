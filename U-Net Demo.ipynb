{
 "cells": [
  {
   "cell_type": "code",
   "execution_count": null,
   "metadata": {
    "id": "IEKicWdI-Ze9"
   },
   "outputs": [],
   "source": [
    "import tensorflow as tf\n",
    "import tensorflow.keras.layers as L\n",
    "from tensorflow.keras.models import Model"
   ]
  },
  {
   "cell_type": "code",
   "execution_count": null,
   "metadata": {
    "id": "o077a_-l_hzS"
   },
   "outputs": [],
   "source": [
    "def conv_block(x, num_filters):\n",
    "    x = L.Conv2D(num_filters, 3, padding=\"same\")(x)\n",
    "    x = L.BatchNormalization()(x)\n",
    "    x = L.Activation(\"relu\")(x)\n",
    "\n",
    "    x = L.Conv2D(num_filters, 3, padding=\"same\")(x)\n",
    "    x = L.BatchNormalization()(x)\n",
    "    x = L.Activation(\"relu\")(x)\n",
    "\n",
    "    return x"
   ]
  },
  {
   "cell_type": "code",
   "execution_count": null,
   "metadata": {
    "id": "B6ghh2u4_jme"
   },
   "outputs": [],
   "source": [
    "def encoder_block(x, num_filters):\n",
    "    x = conv_block(x, num_filters)\n",
    "    p = L.MaxPool2D((2, 2))(x)\n",
    "    return x, p"
   ]
  },
  {
   "cell_type": "code",
   "execution_count": null,
   "metadata": {
    "id": "iyD6Sqxu_lQM"
   },
   "outputs": [],
   "source": [
    "def attention_gate(g, s, num_filters):\n",
    "    Wg = L.Conv2D(num_filters, 1, padding=\"same\")(g)\n",
    "    Wg = L.BatchNormalization()(Wg)\n",
    "\n",
    "    Ws = L.Conv2D(num_filters, 1, padding=\"same\")(s)\n",
    "    Ws = L.BatchNormalization()(Ws)\n",
    "\n",
    "    out = L.Activation(\"relu\")(Wg + Ws)\n",
    "    out = L.Conv2D(num_filters, 1, padding=\"same\")(out)\n",
    "    out = L.Activation(\"sigmoid\")(out)\n",
    "\n",
    "    return out * s"
   ]
  },
  {
   "cell_type": "code",
   "execution_count": null,
   "metadata": {
    "id": "4i1DX1bY_o6A"
   },
   "outputs": [],
   "source": [
    "def decoder_block(x, s, num_filters):\n",
    "    x = L.UpSampling2D(interpolation=\"bilinear\")(x)\n",
    "    s = attention_gate(x, s, num_filters)\n",
    "    x = L.Concatenate()([x, s])\n",
    "    x = conv_block(x, num_filters)\n",
    "    return x"
   ]
  },
  {
   "cell_type": "code",
   "execution_count": null,
   "metadata": {
    "id": "j6t7aLpj_qOn"
   },
   "outputs": [],
   "source": [
    "def attention_unet(input_shape):\n",
    "    \"\"\" Inputs \"\"\"\n",
    "    inputs = L.Input(input_shape)\n",
    "\n",
    "    \"\"\" Encoder \"\"\"\n",
    "    s1, p1 = encoder_block(inputs, 64)\n",
    "    s2, p2 = encoder_block(p1, 128)\n",
    "    s3, p3 = encoder_block(p2, 256)\n",
    "\n",
    "    b1 = conv_block(p3, 512)\n",
    "\n",
    "    \"\"\" Decoder \"\"\"\n",
    "    d1 = decoder_block(b1, s3, 256)\n",
    "    d2 = decoder_block(d1, s2, 128)\n",
    "    d3 = decoder_block(d2, s1, 64)\n",
    "\n",
    "    \"\"\" Outputs \"\"\"\n",
    "    outputs = L.Conv2D(1, 1, padding=\"same\", activation=\"sigmoid\")(d3)\n",
    "\n",
    "    \"\"\" Model \"\"\"\n",
    "    model = Model(inputs, outputs, name=\"Attention-UNET\")\n",
    "    return model"
   ]
  },
  {
   "cell_type": "code",
   "execution_count": null,
   "metadata": {
    "colab": {
     "base_uri": "https://localhost:8080/",
     "height": 1000
    },
    "id": "RxhdGhbI_thW",
    "outputId": "d0c47abb-d51f-4abb-c7a0-239bf4aa3430"
   },
   "outputs": [],
   "source": [
    "if __name__ == \"__main__\":\n",
    "    input_shape = (256, 256, 3)\n",
    "    model = attention_unet(input_shape)\n",
    "    model.summary()"
   ]
  },
  {
   "cell_type": "code",
   "execution_count": null,
   "metadata": {
    "id": "IfkPBQp_BVTB"
   },
   "outputs": [],
   "source": [
    "import numpy as np"
   ]
  },
  {
   "cell_type": "code",
   "execution_count": null,
   "metadata": {
    "id": "Ii0ztV1XBYxQ"
   },
   "outputs": [],
   "source": [
    "x = np.random.rand(1, 1, 2, 3)"
   ]
  },
  {
   "cell_type": "code",
   "execution_count": null,
   "metadata": {
    "colab": {
     "base_uri": "https://localhost:8080/"
    },
    "id": "gSzbkSWqBp4A",
    "outputId": "b7c51113-d05b-4266-8084-c5070330a02f"
   },
   "outputs": [],
   "source": [
    "y = L.Conv2D(64, 3, padding=\"same\")(x)\n",
    "print(y.shape)\n",
    "# model(x)"
   ]
  },
  {
   "cell_type": "code",
   "execution_count": null,
   "metadata": {
    "id": "aOGCGYHCCONR"
   },
   "outputs": [],
   "source": [
    "s1, p1 = encoder_block(x, 64)"
   ]
  },
  {
   "cell_type": "code",
   "execution_count": null,
   "metadata": {
    "colab": {
     "base_uri": "https://localhost:8080/"
    },
    "id": "73Oej9iOCSwM",
    "outputId": "b744ed01-065d-4b16-d93b-b4d11dda165b"
   },
   "outputs": [],
   "source": [
    "print(s1.shape, p1.shape)"
   ]
  },
  {
   "cell_type": "code",
   "execution_count": null,
   "metadata": {
    "id": "XpUMZgM3CYuk"
   },
   "outputs": [],
   "source": [
    "s2, p2 = encoder_block(p1, 128)"
   ]
  },
  {
   "cell_type": "code",
   "execution_count": null,
   "metadata": {
    "colab": {
     "base_uri": "https://localhost:8080/"
    },
    "id": "wuM46qPbCaDt",
    "outputId": "4d568bf9-5c3b-445a-e176-09b7ae5a983f"
   },
   "outputs": [],
   "source": [
    "print(s2.shape, p2.shape)"
   ]
  },
  {
   "cell_type": "code",
   "execution_count": null,
   "metadata": {},
   "outputs": [],
   "source": []
  }
 ],
 "metadata": {
  "colab": {
   "provenance": []
  },
  "kernelspec": {
   "display_name": "Python 3 (ipykernel)",
   "language": "python",
   "name": "python3"
  },
  "language_info": {
   "codemirror_mode": {
    "name": "ipython",
    "version": 3
   },
   "file_extension": ".py",
   "mimetype": "text/x-python",
   "name": "python",
   "nbconvert_exporter": "python",
   "pygments_lexer": "ipython3",
   "version": "3.9.23"
  }
 },
 "nbformat": 4,
 "nbformat_minor": 4
}
