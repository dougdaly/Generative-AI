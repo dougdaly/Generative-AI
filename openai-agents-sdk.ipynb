{
 "cells": [
  {
   "cell_type": "markdown",
   "id": "738ab2b4",
   "metadata": {},
   "source": [
    "# Magic: The Gathering card creator\n",
    "<i>Multiple agents working together to meet a larger goal.</i>\n",
    "\n",
    "## Motivation\n",
    "### You can't ask Chat GPT to do it all\n",
    "If you ask a good AI agent to perform a complex task, you may get something close to what you want, but not exactly right. In this case, the only way to improve the output is to modify the only input at your disposal: the Prompt. This can become very disappointing quickly.<br>\n",
    "### But you can use good design practices to get where you want to go\n",
    "Rather than asking one master agent to answer everything, break the problem down into distinct chunks. Simply put, they fall into two categories:\n",
    "<ul><li>AI Agent: Tasks you can't do (at least easily) on your own</li>\n",
    "<li>YOU: Tasks you can handle.</li>\n",
    "</ul>\n",
    "\n",
    "## Overview\n",
    "For this case, we build a <b>Magic: The Gathering</b> creature card creator. Such a task involves 3 distinct efforts, which require different skills:\n",
    "<ol><li>An entertaining, engaging illustration showing the creature in its environment.</li>\n",
    "<li>Key features: name, type, abilities, mana cost, rarity, etc.</li>\n",
    "<li>Assembling the information on one card in a layout which matches the game.</li>\n",
    "</ol>\n",
    "Asking a single agent to generate a card by itself effectively suffers from too great of a solution space. Further, some elements require a great deal of creativity (the illustration) and others require following specific directions (layout), and others are in between (the features list). Thus by breaking the job into 3 tasks, we expect to get better results than asking for a card all at once.</br></br>\n",
    "For this demo, we begin by asking our AI agent to create a creature card in one request. Next, we break the problem into sub-tasks and try again. For fairness, we will make the prompt as similar as practical. Also, as this involves image generation which could become costly especially when troubleshooting results, we use open-source libraries whenever possible.\n",
    "\n",
    "### AI Agents\n",
    "We use 2 AI Agents: one that performs Stable Diffusion to create an image, and an LLM to determine the creature's features.\n",
    "### non-AI Agent\n",
    "We also use a non-AI agent which uses the Python module Pillow to do the typesetting and card assembly."
   ]
  },
  {
   "cell_type": "markdown",
   "id": "c63e12df",
   "metadata": {},
   "source": [
    "### Import libraries & Initialize AI clients and image generation pipeline"
   ]
  },
  {
   "cell_type": "code",
   "execution_count": 1,
   "id": "582f273b",
   "metadata": {},
   "outputs": [
    {
     "data": {
      "application/vnd.jupyter.widget-view+json": {
       "model_id": "6483de3afcd044daaf07344fb3954ff1",
       "version_major": 2,
       "version_minor": 0
      },
      "text/plain": [
       "Loading pipeline components...:   0%|          | 0/7 [00:00<?, ?it/s]"
      ]
     },
     "metadata": {},
     "output_type": "display_data"
    }
   ],
   "source": [
    "from typing import List, Dict, Callable\n",
    "from agents.tool import WebSearchTool\n",
    "from agents import Agent, Runner, trace\n",
    "from agents import OpenAIChatCompletionsModel, AsyncOpenAI\n",
    "from agents.model_settings import ModelSettings\n",
    "from langchain.chat_models import init_chat_model\n",
    "import openai\n",
    "from openai import OpenAI\n",
    "# Display & data parsing functions\n",
    "from IPython.display import display, Markdown\n",
    "from pprint import pprint\n",
    "import json\n",
    "# For image generation\n",
    "from diffusers import StableDiffusionPipeline\n",
    "import torch\n",
    "from PIL import Image, ImageDraw, ImageFont\n",
    "from compel import Compel\n",
    "import json, textwrap\n",
    "from pathlib import Path\n",
    "from PIL import Image, ImageDraw, ImageFont, ImageOps\n",
    "\n",
    "import os\n",
    "HOME_DIR = f\"{os.environ['HOME']}/Documents/GitHub/Generative-AI\"\n",
    "result_path = f\"{HOME_DIR}/results/MTG-card-generation\"\n",
    "dataset_path = f\"{HOME_DIR}/datasets/MTG-card-generation\"\n",
    "GEN_OPENAI_IMAGE = False  # Set to True to generate image using OpenAI DALL-E-3\n",
    "\n",
    "# Load environment variables\n",
    "from dotenv import load_dotenv, find_dotenv\n",
    "load_dotenv()\n",
    "\n",
    "# Allow nested async\n",
    "import nest_asyncio\n",
    "\n",
    "# Identify gpu type (or cpu if none available)\n",
    "from local_tools import get_device\n",
    "\n",
    "# Initialize\n",
    "nest_asyncio.apply()\n",
    "device = get_device()\n",
    "\n",
    "# Initialize image generation pipeline\n",
    "pipe = StableDiffusionPipeline.from_pretrained(\n",
    "    \"runwayml/stable-diffusion-v1-5\",\n",
    "    torch_dtype=torch.float16\n",
    ").to(device)\n",
    "\n",
    "# --- Client for local/OSS or OpenAI ---\n",
    "client = OpenAI(\n",
    "    base_url=\"http://localhost:11434/v1\",  # adjust if needed\n",
    "    api_key=\"ollama:gpt-oss:20b\",          # dummy for OSS\n",
    ")\n"
   ]
  },
  {
   "cell_type": "markdown",
   "id": "dc4f0f93",
   "metadata": {},
   "source": [
    "### Create a MTG creature card which uses black mana \"at once\"\n",
    "We will create a card using 2 methods:<ol>\n",
    "<li>Stable Diffusion - an image generator using the open source library gpt-oss:20b</li>\n",
    "<li>ChatGPT5</li></ol>"
   ]
  },
  {
   "cell_type": "code",
   "execution_count": 2,
   "id": "3df423df",
   "metadata": {},
   "outputs": [
    {
     "data": {
      "application/vnd.jupyter.widget-view+json": {
       "model_id": "911fb9de46d64a3182730f0c6907b768",
       "version_major": 2,
       "version_minor": 0
      },
      "text/plain": [
       "  0%|          | 0/50 [00:00<?, ?it/s]"
      ]
     },
     "metadata": {},
     "output_type": "display_data"
    }
   ],
   "source": [
    "creature_prompt = \"\"\"Depict a rare creature card for the game Magic: The Gathering that uses black mana.\"\"\"\n",
    "\n",
    "# First, generate an image using Stable Diffusion. If NSFW content is detected, regenerate until a safe image is produced.\n",
    "# For stable diffusion it's good to have one dimension=512. Also both dimensions should be multiples of 8.\n",
    "# As MTG cards are portrait orientation, we use height>width. Since the size ~2.5 inches wide, 3.5 inches high, we use 512x736 pixels.\n",
    "nsfw_detected = True\n",
    "while nsfw_detected:\n",
    "    images = pipe(prompt=creature_prompt, guidance_scale=10, num_inference_steps=50, num_images_per_prompt=1, height=688, width=512)\n",
    "    nsfw_detected = images.nsfw_content_detected[0]\n",
    "card = images.images[0]\n",
    "card.show()\n",
    "card.save(f\"{result_path}/stable_diffusion_mtg_creature_card.png\")"
   ]
  },
  {
   "cell_type": "markdown",
   "id": "7b83da7d",
   "metadata": {},
   "source": [
    "<img src=./datasets/MTG-card-generation/stable_diffusion_mtg_creature_card.png />\n",
    "</br>\n",
    "This contains the spirit of the card, but is not playable. The text is scribbles, there is no header, etc.</br>\n",
    "Next, try using OpenAI"
   ]
  },
  {
   "cell_type": "code",
   "execution_count": 3,
   "id": "5bfabd3c",
   "metadata": {},
   "outputs": [],
   "source": [
    "if GEN_OPENAI_IMAGE:\n",
    "    response = openai.images.generate(\n",
    "            model=\"dall-e-3\",\n",
    "            prompt=creature_prompt,\n",
    "            n=1,\n",
    "            size=\"1792x1024\"\n",
    "        )\n",
    "    image_url = response.data[0].url\n",
    "    print(f\"Generated image URL: {image_url}\")\n"
   ]
  },
  {
   "cell_type": "markdown",
   "id": "2f68c804",
   "metadata": {},
   "source": [
    "<img src=./datasets/MTG-card-generation/openai_mtg_black_mana_creature.png width=800/>\n",
    "</br>\n",
    "Again, it's an attractive card but clearly not playable."
   ]
  },
  {
   "cell_type": "markdown",
   "id": "93b40f8d",
   "metadata": {},
   "source": [
    "### Create a MTG creature card by breaking the job into pieces\n",
    "#### Pre-work\n",
    "Before the job, we created a template card for a black mana and green mana creature. Though it could be done programmatically, we used an existing MTG image and masked sections until we had a reasonably good template:</br>\n",
    "<img src=./datasets/MTG-card-generation/mtg_black_frame_transparent.png width=400/></br>\n",
    "Though the mana cost is still there, we decided to leave it in place."
   ]
  },
  {
   "cell_type": "markdown",
   "id": "a21824c2",
   "metadata": {},
   "source": [
    "#### Generate card features in JSON\n",
    "The first agent MTGCardAgent uses an LLM to describe a Magic: The Gathering creature with these qualities populated in JSON:</br>\n",
    "<ul><li>Name</li>\n",
    "<li>Mana cost</li>\n",
    "<li>Type</li>\n",
    "<li>Rarity</li>\n",
    "<li>Abilities</li>\n",
    "<li>Power</li>\n",
    "<li>Toughness</li>\n",
    "<li>Flavor Text</li></ul>\n",
    "In 2024, MTG cards stopped using the term \"... enters the battlefield\" for their creature description and instead used \"enters\". To ensure our description is for current cards, we filter the generated abilities to use the more current term."
   ]
  },
  {
   "cell_type": "code",
   "execution_count": 4,
   "id": "7057dc3d",
   "metadata": {},
   "outputs": [
    {
     "data": {
      "text/markdown": [
       "```json\n",
       "{\n",
       "  \"name\": \"Sable Reclaimer\",\n",
       "  \"mana_cost\": \"3BB\",\n",
       "  \"type_line\": \"Creature \\u2014 Shade\",\n",
       "  \"rarity\": \"Rare\",\n",
       "  \"abilities\": [\n",
       "    \"When Sable Reclaimer dies, return target creature card from your graveyard to your hand.\",\n",
       "    \"Sacrifice another creature: Sable Reclaimer deals 2 damage to any target.\",\n",
       "    \"When Sable Reclaimer enters, you may sacrifice a creature. If you do, Sable Reclaimer gets +2/+2 until end of turn.\"\n",
       "  ],\n",
       "  \"power\": \"3\",\n",
       "  \"toughness\": \"3\",\n",
       "  \"flavor_text\": \"Only those who taste the abyss can claim its bounty.\"\n",
       "}\n",
       "```"
      ],
      "text/plain": [
       "<IPython.core.display.Markdown object>"
      ]
     },
     "metadata": {},
     "output_type": "display_data"
    }
   ],
   "source": [
    "# Card parameters -- currently can only support black or green mana\n",
    "rarity = \"rare\"\n",
    "mana = \"black\"\n",
    "\n",
    "# --- Simple card generator agent ---\n",
    "class MTGCardAgent:\n",
    "    def __init__(self, client, model=\"gpt-oss:20b\"):\n",
    "        self.client = client\n",
    "        self.model = model\n",
    "\n",
    "    def run(self, prompt: str):\n",
    "        response = self.client.chat.completions.create(\n",
    "            model=self.model,\n",
    "            messages=[\n",
    "                {\"role\": \"system\", \"content\": \"You are an expert Magic the Gathering card designer.\"},\n",
    "                {\"role\": \"user\", \"content\": prompt}\n",
    "            ]\n",
    "        )\n",
    "        return response.choices[0].message.content\n",
    "\n",
    "\n",
    "# --- Generate MTG card ---\n",
    "agent = MTGCardAgent(client)\n",
    "\n",
    "prompt = f\"\"\"Design a brand-new Magic: The Gathering card template, {mana} {rarity} creature.\n",
    "Return your answer in JSON with fields:\n",
    "- name\n",
    "- mana_cost\n",
    "- type_line\n",
    "- rarity\n",
    "- abilities (list of strings)\n",
    "- power\n",
    "- toughness\n",
    "- flavor_text\n",
    "\"\"\"\n",
    "\n",
    "card_json = agent.run(prompt)\n",
    "# remove head/tail to keep the true JSON string. Also make sure to replace newlines and \"enters the battlefield\" with \"enters\"\n",
    "card_json = card_json[card_json.index(\"```\")+7:card_json.index(\"```\",10)-1].replace(\"\\n\", \"\").replace(\"enters the battlefield\", \"enters\")\n",
    "\n",
    "card = json.loads(card_json)\n",
    "pretty = json.dumps(card, indent=2)\n",
    "display(Markdown(f\"```json\\n{pretty}\\n```\"))\n"
   ]
  },
  {
   "cell_type": "markdown",
   "id": "fcf8c47c",
   "metadata": {},
   "source": [
    "#### Use the JSON input to define the artwork\n",
    "We use the Stable Diffusion pipeline to create the artwork. We also add some colorful description of the environment for the creature."
   ]
  },
  {
   "cell_type": "code",
   "execution_count": 5,
   "id": "0432e3f9",
   "metadata": {},
   "outputs": [
    {
     "data": {
      "application/vnd.jupyter.widget-view+json": {
       "model_id": "4fd78cd9b07d4c5684796c5b4ef2f31d",
       "version_major": 2,
       "version_minor": 0
      },
      "text/plain": [
       "  0%|          | 0/50 [00:00<?, ?it/s]"
      ]
     },
     "metadata": {},
     "output_type": "display_data"
    }
   ],
   "source": [
    "# --- Generate artwork from parsed JSON ---\n",
    "if card:\n",
    "    if mana == \"black\":\n",
    "        art_prompt = f\"\"\"\n",
    "            Epic dark fantasy illustration of a Magic: The Gathering creature.\n",
    "            Depict a {card['type_line']} named {card['name']}.\n",
    "            Theme: {card['flavor_text']}\n",
    "            Style: painterly, highly detailed, atmospheric, gothic horror.\n",
    "            Lighting: dramatic shadows, eerie glow, sinister ambiance.\n",
    "            Focus: single centered subject, portrait orientation.\n",
    "            Do NOT include card borders, text boxes, logos, or templates.\n",
    "            \"\"\"\n",
    "    else:\n",
    "        art_prompt = f\"\"\"\n",
    "            Epic fantasy illustration of a powerful green creature in Magic: The Gathering style.\n",
    "            Depict a {card['type_line']} named {card['name']}.\n",
    "            Theme: {card['flavor_text']}\n",
    "            Setting: deep forest bathed in sunlight shafts, lush foliage, mystical atmosphere.\n",
    "            Style: painterly, highly detailed, natural textures, fantasy card game art.\n",
    "            Focus: single centered creature, portrait orientation.\n",
    "            Do NOT include card borders, frames, text, numbers, logos, or templates.\n",
    "            \"\"\"\n",
    "\n",
    "    neg_prompt = \"\"\"\n",
    "    card frame, border, text, captions, watermarks, logos, symbols, template,\n",
    "    numbers, stats, cropped edges, trading card, design layout\n",
    "    \"\"\"\n",
    "\n",
    "    # Init compel with the pipe’s tokenizer + text_encoder\n",
    "    compel = Compel(tokenizer=pipe.tokenizer, text_encoder=pipe.text_encoder)\n",
    "\n",
    "    # This auto-chunks >77 token prompts\n",
    "    prompt_embeds = compel(art_prompt)\n",
    "    neg_prompt_embeds = compel(neg_prompt)\n",
    "    nsfw_detected = True\n",
    "    while nsfw_detected:\n",
    "        images = pipe(prompt_embeds=prompt_embeds, negative_prompt_embeds=neg_prompt_embeds, guidance_scale=10, num_inference_steps=50, num_images_per_prompt=1, height=512, width=624)\n",
    "        nsfw_detected = images.nsfw_content_detected[0]\n",
    "    art = images.images[0]\n",
    "    art.show()\n",
    "    art.save(f\"{result_path}/art_agent_mtg_black_mana_creature.png\")\n",
    "\n",
    "\n"
   ]
  },
  {
   "cell_type": "markdown",
   "id": "575c9702",
   "metadata": {},
   "source": [
    "<img src=./datasets/MTG-card-generation/art_agent_mtg_black_mana_creature.png></br>\n",
    "Notice that the image isn't arbitrary. It is \"Ebon Harvester\" which does its 'reaping' in the forest, which aligns with the picture."
   ]
  },
  {
   "cell_type": "markdown",
   "id": "df223ee1",
   "metadata": {},
   "source": [
    "#### Assembly - put the frame, artwork and creature characteristics together\n",
    "As each element of a card belongs in a specific location, we use the Python Pillow library for the assembly and typesetting. This code calls out various bounding boxes in an image as well as the fonts to use for the text."
   ]
  },
  {
   "cell_type": "code",
   "execution_count": 6,
   "id": "8433f755",
   "metadata": {},
   "outputs": [],
   "source": [
    "\n",
    "BLACK_FRAME_PATH = f\"{dataset_path}/mtg_black_frame_transparent.png\"\n",
    "GREEN_FRAME_PATH = f\"{dataset_path}/mtg_green_frame_transparent.png\"\n",
    "OUTPUT_PATH   = f\"{result_path}/mtg_card_final.png\"\n",
    "\n",
    "# Font paths (adjust to where you installed them)\n",
    "FONT_BELEREN_SC = \"Beleren2016SmallCaps.ttf\"  # name/title/type\n",
    "FONT_BELEREN_B  = \"Beleren2016-Bold.ttf\"      # alt/title/PT\n",
    "FONT_RULES      = \"MPlantin.ttf\"              # rules & flavor; substitute CrimsonText-SemiBold.ttf if you don't have Plantin\n",
    "# Fallbacks:\n",
    "FALLBACK_SANS   = \"/System/Library/Fonts/Supplemental/Arial Unicode.ttf\"\n",
    "FALLBACK_SERIF  = \"/System/Library/Fonts/Supplemental/Times New Roman.ttf\"\n",
    "\n",
    "# -----------------------------\n",
    "# 1) Parameters for BOXES \n",
    "# -----------------------------\n",
    "# These are measured to look right on a 744×1040 frame. Tweak if your frame template differs.\n",
    "W, H = 1024, 1536\n",
    "NAME_BOX  = (82, 95, 560, 130)      # left top right bottom (leaves room for mana)\n",
    "MANA_BOX  = (570, 95, 850, 130)\n",
    "ART_BOX   = (82, 140, 950, 850)\n",
    "TYPE_BOX  = (82, 860, 880, 900)\n",
    "TEXT_BOX  = (82, 935, 880, 1330)     # rules + flavor\n",
    "PT_BOX    = (740, 1265, 1015, 1415)   # power/toughness\n",
    "RARITY_C  = (900, 880)               # small circle center (title bar right)\n",
    "\n",
    "\n",
    "# -----------------------------\n",
    "# 2) HELPERS\n",
    "# -----------------------------\n",
    "def load_font(path, size, fallback=None):\n",
    "    try:\n",
    "        return ImageFont.truetype(path, size)\n",
    "    except Exception:\n",
    "        if fallback:\n",
    "            try:\n",
    "                return ImageFont.truetype(fallback, size)\n",
    "            except Exception:\n",
    "                return ImageFont.load_default()\n",
    "        return ImageFont.load_default()\n",
    "\n",
    "def wrap_text_by_width(draw, text, font, max_width):\n",
    "    lines = []\n",
    "    for paragraph in text.split(\"\\n\"):\n",
    "        words = paragraph.split(\" \")\n",
    "        line = \"\"\n",
    "        for w in words:\n",
    "            test_line = line + (\" \" if line else \"\") + w\n",
    "            if draw.textlength(test_line, font=font) <= max_width:\n",
    "                line = test_line\n",
    "            else:\n",
    "                lines.append(line)\n",
    "                line = w\n",
    "        if line:\n",
    "            lines.append(line)\n",
    "    return lines\n",
    "\n",
    "def fit_image_to_box(img: Image.Image, box):\n",
    "    \"\"\"Crop (letterbox) to preserve aspect ratio and fill the box exactly.\"\"\"\n",
    "    box_w = box[2] - box[0]\n",
    "    box_h = box[3] - box[1]\n",
    "    return ImageOps.fit(img, (box_w, box_h), method=Image.LANCZOS, bleed=0.0, centering=(0.5, 0.5))\n",
    "\n",
    "def shrink_to_fit(draw: ImageDraw.ImageDraw, text, box, font_path, max_pt, min_pt=14, line_spacing=0.9, serif=False, align=\"left\", italic=False):\n",
    "    \"\"\"\n",
    "    Binary-search the font size so the wrapped text fits in the bounding box height/width.\n",
    "    Returns (wrapped_text, font).\n",
    "    \"\"\"\n",
    "    left, top, right, bottom = box\n",
    "    box_w, box_h = right - left, bottom - top\n",
    "    lo, hi = min_pt, max_pt\n",
    "    chosen = min_pt\n",
    "    font_fallback = FALLBACK_SERIF if serif else FALLBACK_SANS\n",
    "    face = font_path\n",
    "\n",
    "    while lo <= hi:\n",
    "        mid = (lo + hi) // 2\n",
    "        font = load_font(face, mid, fallback=font_fallback)\n",
    "        # rough wrap width: measure average char width\n",
    "        avg = draw.textlength(\"ABCDEFGHIJKLMNOPQRSTUVWXYZ\", font=font) / 26\n",
    "        if avg == 0:\n",
    "            avg = mid * 0.6\n",
    "        # target chars per line:\n",
    "        lines = wrap_text_by_width(draw, text, font, box_w)\n",
    "        wrapped = \"\\n\".join(lines)\n",
    "\n",
    "        # measure height\n",
    "        line_h = font.getbbox(\"Ag\")[3] - font.getbbox(\"Ag\")[1]\n",
    "        total_h = int(len(lines) * line_h * line_spacing)\n",
    "        # check width overflow on longest line\n",
    "        max_w = max((draw.textlength(l, font=font) for l in lines), default=0)\n",
    "        if total_h <= box_h and max_w <= box_w:\n",
    "            chosen = mid\n",
    "            lo = mid + 1\n",
    "            chosen_wrapped = wrapped\n",
    "            chosen_font = font\n",
    "        else:\n",
    "            hi = mid - 1\n",
    "\n",
    "    return chosen_wrapped, chosen_font\n",
    "\n",
    "def draw_text_in_box(draw, text, box, font_path, max_pt, serif=False, color=\"black\", align=\"left\", italic=False, line_spacing=1.05, min_pt=14):\n",
    "    wrapped, font = shrink_to_fit(draw, text, box, font_path, max_pt, min_pt=min_pt, line_spacing=line_spacing, serif=serif, align=align, italic=italic)\n",
    "    draw.multiline_text((box[0], box[1]), wrapped, font=font, fill=color, spacing=int(font.size * (line_spacing - 1) + 2), align=align)\n",
    "\n",
    "def draw_mana_cost(draw, mana_str, box, font_path):\n",
    "    \"\"\"\n",
    "    Very simple fallback: render {4}{G}{G} as text aligned right.\n",
    "    For full fidelity, replace with PNG icons and place them horizontally.\n",
    "    \"\"\"\n",
    "    font = load_font(font_path, 36, fallback=FALLBACK_SANS)\n",
    "    # right-align\n",
    "    text_w = draw.textlength(mana_str, font=font)\n",
    "    x = box[2] - text_w\n",
    "    y = box[1] + (box[3] - box[1] - (font.getbbox(\"Ag\")[3]-font.getbbox(\"Ag\")[1])) // 2\n",
    "    draw.text((x, y), mana_str, font=font, fill=\"black\")\n",
    "\n",
    "# -----------------------------\n",
    "# 3) COMPOSE\n",
    "# -----------------------------\n",
    "\n",
    "def render_card(card, art: Image.Image, out_path=OUTPUT_PATH):\n",
    "    art_resized = art.resize((ART_BOX[2] - ART_BOX[0], ART_BOX[3] - ART_BOX[1]), Image.LANCZOS)\n",
    "\n",
    "    # Base canvas\n",
    "    if card.get(\"mana_cost\")[-2] == \"B\":\n",
    "        frame_path = BLACK_FRAME_PATH\n",
    "        TYPE_BOX = (82, 870, 900, 910)\n",
    "        TEXT_BOX = (82, 950, 900, 1345)  # rules + flavor\n",
    "        RARITY_C = (900, 893)               # small circle center (title bar right)\n",
    "    else:\n",
    "        frame_path = GREEN_FRAME_PATH\n",
    "        TYPE_BOX = (82, 860, 880, 900)\n",
    "        TEXT_BOX = (82, 935, 880, 1330)\n",
    "        RARITY_C = (900, 880)\n",
    "    canvas = Image.new(\"RGBA\", (W, H), (0, 0, 0, 0))\n",
    "    # Place resized art (cropped to ART BOX)\n",
    "    canvas.paste(art_resized, (ART_BOX[0], ART_BOX[1]))\n",
    "    frame = Image.open(frame_path).convert(\"RGBA\")\n",
    "    canvas = Image.alpha_composite(canvas, frame)\n",
    "\n",
    "    canvas.convert(\"RGB\").save(\"demo_image.png\", \"PNG\")\n",
    "\n",
    "    # draw text on top\n",
    "    draw = ImageDraw.Draw(canvas)\n",
    "\n",
    "    # Fonts\n",
    "    title_font_path = FONT_BELEREN_SC if Path(FONT_BELEREN_SC).exists() else FONT_BELEREN_B\n",
    "    type_font_path  = title_font_path\n",
    "    rules_font_path = FONT_RULES if Path(FONT_RULES).exists() else FALLBACK_SERIF\n",
    "\n",
    "    # Name (SmallCaps style face), big, left-aligned\n",
    "    draw_text_in_box(draw, card[\"name\"], NAME_BOX, title_font_path, max_pt=56, serif=False)\n",
    "\n",
    "    # Mana cost (right)\n",
    "    #draw_mana_cost(draw, f\"{{{card['mana_cost']}}}\" if \"{\" not in card[\"mana_cost\"] else card[\"mana_cost\"], MANA_BOX, title_font_path)\n",
    "\n",
    "    # Type line\n",
    "    draw_text_in_box(draw, card[\"type_line\"], TYPE_BOX, type_font_path, max_pt=40, serif=False)\n",
    "\n",
    "    # Rules text: abilities (bulleted) + flavor (italic color)\n",
    "    rules = \"\\n\".join([f\" {a}\\n\" for a in card.get(\"abilities\", [])]) if card.get(\"abilities\", []) else \"\"\n",
    "    flavor = card.get(\"flavor_text\", \"\").strip()\n",
    "\n",
    "    # Split TEXT_BOX: 80% for rules, last 20% for flavor\n",
    "    tL, tT, tR, tB = TEXT_BOX\n",
    "    rules_h = int((tB - tT) * 0.78)\n",
    "    flavor_box = (tL, tT + rules_h + 10, tR, tB)\n",
    "    rules_box  = (tL, tT, tR, tT + rules_h)\n",
    "\n",
    "    # draw rules (serif, a bit tighter)\n",
    "    if rules:\n",
    "        print(rules_box)\n",
    "        draw_text_in_box(draw, rules, rules_box, rules_font_path, max_pt=40, serif=True, line_spacing=1.08)\n",
    "\n",
    "    # draw flavor (italic feel—if you don’t have italic, this still works)\n",
    "    if flavor:\n",
    "        draw_text_in_box(draw, f\"“{flavor}”\", flavor_box, rules_font_path, max_pt=40, serif=True, color=\"#555555\", line_spacing=1.06)\n",
    "\n",
    "    # PT box\n",
    "    pt_text = f\"{card['power']}/{card['toughness']}\"\n",
    "    pt_font = load_font(FONT_BELEREN_B if Path(FONT_BELEREN_B).exists() else FALLBACK_SANS, 72, fallback=FALLBACK_SANS)\n",
    "    # center PT in its box\n",
    "    pt_w = draw.textlength(pt_text, font=pt_font)\n",
    "    pt_h = pt_font.getbbox(\"Ag\")[3] - pt_font.getbbox(\"Ag\")[1]\n",
    "    px = PT_BOX[0] + (PT_BOX[2] - PT_BOX[0] - pt_w) // 2\n",
    "    py = PT_BOX[1] + (PT_BOX[3] - PT_BOX[1] - pt_h) // 2\n",
    "    draw.text((px, py), pt_text, font=pt_font, fill=\"black\")\n",
    "\n",
    "    # rarity dot (simple)\n",
    "    rarity_color = {\"Mythic Rare\": (237, 125, 49), \"Rare\": (212, 175, 55), \"Uncommon\": (160, 160, 160), \"Common\": (40, 40, 40)}\n",
    "    rc = rarity_color.get(card.get(\"rarity\", \"Common\"), (40, 40, 40))\n",
    "    rx, ry = RARITY_C\n",
    "    r = 16\n",
    "    draw.ellipse((rx - r, ry - r, rx + r, ry + r), fill=rc, outline=(0, 0, 0))\n",
    "\n",
    "    # save\n",
    "    canvas.convert(\"RGB\").save(f\"{result_path}/{out_path}\", \"PNG\")\n",
    "    return out_path"
   ]
  },
  {
   "cell_type": "code",
   "execution_count": 7,
   "id": "e3d7cc5b",
   "metadata": {},
   "outputs": [
    {
     "name": "stdout",
     "output_type": "stream",
     "text": [
      "(82, 950, 900, 1258)\n",
      "Saved: mtg_card_final.png\n"
     ]
    }
   ],
   "source": [
    "out_path = render_card(card, art, out_path=\"mtg_card_final.png\")\n",
    "print(\"Saved:\", out_path)\n"
   ]
  },
  {
   "cell_type": "markdown",
   "id": "458c0533",
   "metadata": {},
   "source": [
    "<img src=./datasets/MTG-card-generation/mtg_card_final.png width=300 />"
   ]
  },
  {
   "cell_type": "markdown",
   "id": "7a6af942",
   "metadata": {},
   "source": [
    "What we have here is a playable MTG card which looks much like the real thing! The template could still improve somewhat, but it does look like a good mock-up.</br>\n",
    "### Recap and Future Efforts\n",
    "This demo shows us that AI tools can be a productivity multiplier when used as part of a larger development strategy. By creating separate agents who work together, you can create something that is not just interesting but valuable.\n",
    "</br>\n",
    "This only shows a small slice of MTG cards. It's certainly possible (and could be a lot of fun!) to build an entire MTG set where all cards follow an overall theme. For example, one popular existing set is based on the Lord of the Rings books and movies. However, it wouldn't be difficult to build an entire set of 100+ cards which all tie to your favorite movie. The possiblities are endless."
   ]
  },
  {
   "cell_type": "markdown",
   "id": "e7906e03",
   "metadata": {},
   "source": []
  }
 ],
 "metadata": {
  "kernelspec": {
   "display_name": "ai",
   "language": "python",
   "name": "python3"
  },
  "language_info": {
   "codemirror_mode": {
    "name": "ipython",
    "version": 3
   },
   "file_extension": ".py",
   "mimetype": "text/x-python",
   "name": "python",
   "nbconvert_exporter": "python",
   "pygments_lexer": "ipython3",
   "version": "3.10.18"
  }
 },
 "nbformat": 4,
 "nbformat_minor": 5
}
