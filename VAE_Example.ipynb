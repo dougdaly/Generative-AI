{
 "cells": [
  {
   "cell_type": "markdown",
   "metadata": {
    "id": "ylSyOAXF_5tn"
   },
   "source": [
    "# Implementation of Variational AutoEncoder (VAE)\n",
    "The Variational AutoEncoder is a conceptual leap forward in GenAI vs traditional AutoEncoder techniques.\n",
    "By encoding images in the latent space in terms of a distribution, the VAE learns a class of images based on how it's trained.\n",
    "</br></br>\n",
    "In this demo, we create both a VAE and a traditional Auto-Encoder and compare the performance in three aspects:\n",
    "<ul><li>Image reconstruction after compression</li>\n",
    "<li>Image noise reduction.</li>\n",
    "<li>Image generation (from nothing)</li></ul>\n",
    "Though the two encoders are by definition, architecturaly different. They are designed to be nearly identical except for the sampling step which is a VAE feature."
   ]
  },
  {
   "cell_type": "code",
   "execution_count": 1,
   "metadata": {
    "colab": {
     "base_uri": "https://localhost:8080/"
    },
    "id": "8h34tIA0__aY",
    "outputId": "25511f88-ffa0-40a2-8cbe-d347759cd145"
   },
   "outputs": [],
   "source": [
    "#!pip install torch torchvision numpy tqdm]\n",
    "#!pip install pyimagesearch\n",
    "#!pip install --upgrade pip\n"
   ]
  },
  {
   "cell_type": "code",
   "execution_count": 2,
   "metadata": {
    "id": "IxMNPrW3_5tq"
   },
   "outputs": [],
   "source": [
    "import torch\n",
    "import torch.nn as nn\n",
    "\n",
    "import numpy as np\n",
    "\n",
    "from tqdm import tqdm\n",
    "from torchvision.utils import save_image, make_grid"
   ]
  },
  {
   "cell_type": "code",
   "execution_count": 3,
   "metadata": {
    "id": "_xERpncF_5tr"
   },
   "outputs": [],
   "source": [
    "import os\n",
    "HOME_DIR = f\"{os.environ['HOME']}/Documents/GitHub/Generative-AI\"\n",
    "dataset_path = f\"{HOME_DIR}/datasets\"\n",
    "\n",
    "import sys\n",
    "sys.path += [dataset_path]\n",
    "\n",
    "from support import get_device\n",
    "\n",
    "# Set device to GPU if available; otherwise CPU \n",
    "# Get current GPUs if available\n",
    "device = get_device()\n",
    "\n",
    "#Model hyperparameters\n",
    "batch_size = 100\n",
    "epochs = 200\n",
    "\n",
    "# Dimensionality for encoder/decoder\n",
    "x_dim  = 784 # input (encoder)/output (decoder) layer\n",
    "hidden_dim = 400 #hidden layer\n",
    "latent_dim = 200 #latent layer: encoder output, decoder input\n",
    "\n",
    "# Learning rate\n",
    "lr = 2e-4\n"
   ]
  },
  {
   "cell_type": "markdown",
   "metadata": {
    "id": "TzWFXIi4_5ts"
   },
   "source": [
    "###    Step 1. Load (or download) Dataset"
   ]
  },
  {
   "cell_type": "code",
   "execution_count": 4,
   "metadata": {
    "colab": {
     "base_uri": "https://localhost:8080/"
    },
    "id": "qTlKdv4I_5ts",
    "outputId": "c326c00b-ba73-409d-b8f6-5ea0d259ddda"
   },
   "outputs": [],
   "source": [
    "from torchvision.datasets import MNIST\n",
    "import torchvision.transforms as transforms\n",
    "from torch.utils.data import DataLoader\n",
    "\n",
    "\n",
    "mnist_transform = transforms.Compose([\n",
    "        transforms.ToTensor(),\n",
    "])\n",
    "\n",
    "kwargs = {'num_workers': 0, 'pin_memory': True}\n",
    "\n",
    "train_dataset = MNIST(dataset_path, transform=mnist_transform, train=True, download=True)\n",
    "test_dataset  = MNIST(dataset_path, transform=mnist_transform, train=False, download=True)\n",
    "\n",
    "train_loader = DataLoader(dataset=train_dataset, batch_size=batch_size, shuffle=True, **kwargs)\n",
    "test_loader  = DataLoader(dataset=test_dataset,  batch_size=batch_size, shuffle=False, **kwargs)"
   ]
  },
  {
   "cell_type": "markdown",
   "metadata": {},
   "source": [
    "### Step 2a: Define base model - AutoEncoder\n",
    "The AE_Model is a simple encoder/decoder pair.\n",
    "<ul><li>AE_encoder: Translates the input (x) into lower dimensional latent space (z)</li>\n",
    "<li>AE_decoder: Converts latent representation back into original image space (x-hat).</li>\n",
    "<li>Loss function: similar to MSE between x and x-hat</li></ul>"
   ]
  },
  {
   "cell_type": "code",
   "execution_count": 5,
   "metadata": {},
   "outputs": [],
   "source": [
    "class AE_Encoder(nn.Module):\n",
    "    def __init__(self, input_dim, hidden_dim, latent_dim):\n",
    "        super().__init__()\n",
    "        # nn.Linear(input features, output features, bias (True) - calculate additive bias)\n",
    "        self.FC_input1 = nn.Linear(input_dim, hidden_dim)\n",
    "        self.FC_input2 = nn.Linear(hidden_dim, hidden_dim)\n",
    "        self.FC_latent = nn.Linear(hidden_dim, latent_dim)\n",
    "        self.LeakyReLU = nn.LeakyReLU(0.2)\n",
    "        self.training = True\n",
    "    # forward - required for all NN models. It's what's run when the class is called like a function.\n",
    "    def forward(self, x):\n",
    "        h_ = self.LeakyReLU(self.FC_input1(x))\n",
    "        h_ = self.LeakyReLU(self.FC_input2(h_))\n",
    "        z  = self.LeakyReLU(self.FC_latent(h_))\n",
    "        return z\n",
    "\n",
    "\n",
    "class AE_Decoder(nn.Module):\n",
    "    def __init__(self, latent_dim, hidden_dim, output_dim):\n",
    "        # nn.Linear(input features, output features, bias (True) - calculate additive bias)\n",
    "        super().__init__()\n",
    "        self.FC_hidden = nn.Linear(latent_dim, hidden_dim)\n",
    "        self.FC_hidden2 = nn.Linear(hidden_dim, hidden_dim)\n",
    "        self.FC_output = nn.Linear(hidden_dim, output_dim)\n",
    "        self.LeakyReLU = nn.LeakyReLU(0.2)\n",
    "        \n",
    "    def forward(self, x):\n",
    "        h     = self.LeakyReLU(self.FC_hidden(x))\n",
    "        h     = self.LeakyReLU(self.FC_hidden2(h))\n",
    "        x_hat = torch.sigmoid(self.FC_output(h))\n",
    "        return x_hat\n",
    "\n",
    "\n",
    "class AE_Model(nn.Module):\n",
    "    def __init__(self, Encoder, Decoder):\n",
    "        super().__init__()\n",
    "        self.encoder = Encoder\n",
    "        self.decoder = Decoder\n",
    "\n",
    "    def forward(self, x):\n",
    "        encoded = self.encoder(x)\n",
    "        x_hat = self.decoder(encoded)\n",
    "        return x_hat"
   ]
  },
  {
   "cell_type": "code",
   "execution_count": 6,
   "metadata": {},
   "outputs": [],
   "source": [
    "ae_encoder = AE_Encoder(input_dim=x_dim, hidden_dim=hidden_dim, latent_dim=latent_dim)\n",
    "ae_decoder = AE_Decoder(latent_dim=latent_dim, hidden_dim = hidden_dim, output_dim = x_dim)\n",
    "# instead of to(device), you may see .cuda() in other demos. That only works for Google Colab or NVIDIA GPUs.\n",
    "ae_model = AE_Model(Encoder=ae_encoder, Decoder=ae_decoder).to(device) "
   ]
  },
  {
   "cell_type": "markdown",
   "metadata": {
    "id": "tRPHLn4p_5tt"
   },
   "source": [
    "### Step 2b. Define our model: Variational AutoEncoder (VAE)\n",
    "The VAE differs from the auto-encoder in these respects<ul>\n",
    "<li>The encoder creates 2 vectors in latent space: the mean and log-variance of the underlying distribution (mu, sigma).</li>\n",
    "<li>The reparameterization step converts the mean and log-variance values into a sample from a gaussian (z).</li>\n",
    "<li>The decoder performs the same as before.</li>\n",
    "<li>Loss function is both the reconstruction error <b>and</b> a measure of how well the latent space representation matches a standard normal distribution (KL divergence).</li></ul>"
   ]
  },
  {
   "cell_type": "code",
   "execution_count": 7,
   "metadata": {
    "id": "W6uPBxZM_5tt"
   },
   "outputs": [],
   "source": [
    "\"\"\"\n",
    "    A simple implementation of Gaussian MLP Encoder and Decoder\n",
    "\"\"\"\n",
    "# https://pytorch.org/docs/stable/generated/torch.nn.Module.html\n",
    "# nn.Module is the base class for all NN modules\n",
    "# Generate Encoder class as subclass of nn.Module\n",
    "# The 'forward' method is what's executed when a torch.nn object is called like a function. It's a forward pass in the NN.\n",
    "class VAE_Encoder(nn.Module):\n",
    "\n",
    "    def __init__(self, input_dim, hidden_dim, latent_dim):\n",
    "        super().__init__()\n",
    "        # nn.Linear(input features, output features, bias (True) - calculate additive bias\n",
    "        self.FC_input = nn.Linear(input_dim, hidden_dim)\n",
    "        self.FC_input2 = nn.Linear(hidden_dim, hidden_dim)\n",
    "        self.FC_mean  = nn.Linear(hidden_dim, latent_dim)\n",
    "        self.FC_var   = nn.Linear (hidden_dim, latent_dim)\n",
    "\n",
    "        self.LeakyReLU = nn.LeakyReLU(0.2)\n",
    "        self.training = True\n",
    "\n",
    "    def forward(self, x):\n",
    "        h_       = self.LeakyReLU(self.FC_input(x))\n",
    "        h_       = self.LeakyReLU(self.FC_input2(h_))\n",
    "        mean     = self.FC_mean(h_)\n",
    "        log_var  = self.FC_var(h_)                     # encoder produces mean and log of variance\n",
    "                                                       #             (i.e., parateters of simple tractable normal distribution \"q\"\n",
    "        return mean, log_var\n",
    "\n"
   ]
  },
  {
   "cell_type": "code",
   "execution_count": 8,
   "metadata": {
    "id": "73cbOAVU_5tu"
   },
   "outputs": [],
   "source": [
    "# https://pytorch.org/docs/stable/generated/torch.nn.Module.html\n",
    "# nn.Module is the base class for all NN modules\n",
    "# Generate Decoder class as subclass of nn.Module\n",
    "# The 'forward' method is what's executed when a torch.nn object is called like a function. It's a forward pass in the NN.\n",
    "class VAE_Decoder(nn.Module):\n",
    "    def __init__(self, latent_dim, hidden_dim, output_dim):\n",
    "        super().__init__()\n",
    "        self.FC_hidden = nn.Linear(latent_dim, hidden_dim)\n",
    "        self.FC_hidden2 = nn.Linear(hidden_dim, hidden_dim)\n",
    "        self.FC_output = nn.Linear(hidden_dim, output_dim)\n",
    "\n",
    "        self.LeakyReLU = nn.LeakyReLU(0.2)\n",
    "\n",
    "    def forward(self, x):\n",
    "        h     = self.LeakyReLU(self.FC_hidden(x))\n",
    "        h     = self.LeakyReLU(self.FC_hidden2(h))\n",
    "        x_hat = torch.sigmoid(self.FC_output(h))\n",
    "        return x_hat\n"
   ]
  },
  {
   "cell_type": "code",
   "execution_count": 9,
   "metadata": {
    "id": "J32K1Vid_5tu"
   },
   "outputs": [],
   "source": [
    "# https://pytorch.org/docs/stable/generated/torch.nn.Module.html\n",
    "# nn.Module is the base class for all NN modules\n",
    "# Generate Model class as subclass of nn.Module\n",
    "# The 'forward' method is what's executed when a torch.nn object is called like a function. It's a forward pass in the NN.\n",
    "\n",
    "class VAE_Model(nn.Module):\n",
    "    def __init__(self, Encoder, Decoder):\n",
    "        super().__init__()\n",
    "        self.Encoder = Encoder\n",
    "        self.Decoder = Decoder\n",
    "\n",
    "    def reparameterization(self, mean, var):\n",
    "        epsilon = torch.randn_like(var).to(device)        # sampling epsilon\n",
    "        z = mean + var*epsilon                          # reparameterization trick\n",
    "        return z\n",
    "\n",
    "\n",
    "    def forward(self, x):\n",
    "        mean, log_var = self.Encoder(x) # x is raw input, my encoder takes x and gives mu and sigma which are functions of x.\n",
    "        z = self.reparameterization(mean, torch.exp(0.5 * log_var)) # takes exponential function (log var -> var)\n",
    "        x_hat = self.Decoder(z)\n",
    "        return x_hat, mean, log_var\n"
   ]
  },
  {
   "cell_type": "code",
   "execution_count": 10,
   "metadata": {
    "id": "LPCW7nvG_5tu"
   },
   "outputs": [],
   "source": [
    "vae_encoder = VAE_Encoder(input_dim=x_dim, hidden_dim=hidden_dim, latent_dim=latent_dim)\n",
    "vae_decoder = VAE_Decoder(latent_dim=latent_dim, hidden_dim = hidden_dim, output_dim = x_dim)\n",
    "\n",
    "vae_model = VAE_Model(Encoder=vae_encoder, Decoder=vae_decoder).to(device)\n"
   ]
  },
  {
   "cell_type": "markdown",
   "metadata": {
    "id": "TQWn9EHW_5tv"
   },
   "source": [
    "### Step 3. Define Loss functions (reprod. loss) and optimizer"
   ]
  },
  {
   "cell_type": "code",
   "execution_count": 11,
   "metadata": {
    "id": "VIfKpH2n_5tv"
   },
   "outputs": [],
   "source": [
    "from torch.optim import Adam\n",
    "\n",
    "BCE_loss = nn.BCELoss()\n",
    "\n",
    "def ae_loss_function(x, x_hat):\n",
    "    reproduction_loss = nn.functional.binary_cross_entropy(x_hat, x, reduction='sum')\n",
    "    return reproduction_loss\n",
    "\n",
    "def vae_loss_function(x, x_hat, mean, log_var):\n",
    "    reproduction_loss = nn.functional.binary_cross_entropy(x_hat, x, reduction='sum')\n",
    "    KLD      = - 0.5 * torch.sum(1+ log_var - mean.pow(2) - log_var.exp())\n",
    "    return reproduction_loss + KLD\n",
    "\n",
    "ae_optimizer = Adam(ae_model.parameters(), lr=lr)\n",
    "vae_optimizer = Adam(vae_model.parameters(), lr=lr)\n"
   ]
  },
  {
   "cell_type": "markdown",
   "metadata": {},
   "source": [
    "### Step 4a. Train AutoEncoder (AE)"
   ]
  },
  {
   "cell_type": "code",
   "execution_count": 12,
   "metadata": {},
   "outputs": [
    {
     "name": "stdout",
     "output_type": "stream",
     "text": [
      "Start training AE...\n"
     ]
    },
    {
     "name": "stderr",
     "output_type": "stream",
     "text": [
      "/opt/anaconda3/lib/python3.9/site-packages/torch/utils/data/dataloader.py:684: UserWarning: 'pin_memory' argument is set as true but not supported on MPS now, then device pinned memory won't be used.\n",
      "  warnings.warn(warn_msg)\n"
     ]
    },
    {
     "name": "stdout",
     "output_type": "stream",
     "text": [
      "\tEpoch 1 complete! \tAverage Loss:  209.68301200242593\n",
      "\tEpoch 11 complete! \tAverage Loss:  68.4673032609688\n",
      "\tEpoch 21 complete! \tAverage Loss:  60.86219579833577\n",
      "\tEpoch 31 complete! \tAverage Loss:  57.67939823207951\n",
      "\tEpoch 41 complete! \tAverage Loss:  55.992654766407554\n",
      "\tEpoch 51 complete! \tAverage Loss:  54.905020917023165\n",
      "\tEpoch 61 complete! \tAverage Loss:  54.12616043014399\n",
      "\tEpoch 71 complete! \tAverage Loss:  53.52165537940839\n",
      "\tEpoch 81 complete! \tAverage Loss:  53.04571323299249\n",
      "\tEpoch 91 complete! \tAverage Loss:  52.65938210820117\n",
      "\tEpoch 101 complete! \tAverage Loss:  52.32172123624009\n",
      "\tEpoch 111 complete! \tAverage Loss:  52.03207682563387\n",
      "\tEpoch 121 complete! \tAverage Loss:  51.794876005908286\n",
      "\tEpoch 131 complete! \tAverage Loss:  51.57012347238888\n",
      "\tEpoch 141 complete! \tAverage Loss:  51.38413231851263\n",
      "\tEpoch 151 complete! \tAverage Loss:  51.21569901659015\n",
      "\tEpoch 161 complete! \tAverage Loss:  51.0642992552692\n",
      "\tEpoch 171 complete! \tAverage Loss:  50.92104625058692\n",
      "\tEpoch 181 complete! \tAverage Loss:  50.795322330837855\n",
      "\tEpoch 191 complete! \tAverage Loss:  50.67878017724854\n",
      "\tEpoch 200 complete! \tAverage Loss:  50.57863682309057\n",
      "Finish!!\n"
     ]
    }
   ],
   "source": [
    "print(\"Start training AE...\")\n",
    "ae_model.train()\n",
    "\n",
    "for epoch in range(epochs):\n",
    "    overall_loss = 0\n",
    "    for batch_idx, (x, _) in enumerate(train_loader):\n",
    "        x = x.view(batch_size, x_dim)\n",
    "        x = x.to(device)\n",
    "\n",
    "        ae_optimizer.zero_grad()\n",
    "\n",
    "        x_hat = ae_model(x)\n",
    "        loss = ae_loss_function(x, x_hat)\n",
    "\n",
    "        overall_loss += loss.item()\n",
    "\n",
    "        loss.backward() # loss minimization\n",
    "        ae_optimizer.step() # weight update\n",
    "\n",
    "    if (epoch%10 == 0) or (epoch == epochs-1):\n",
    "        print(\"\\tEpoch\", epoch + 1, \"complete!\", \"\\tAverage Loss: \", overall_loss / (batch_idx*batch_size))\n",
    "\n",
    "print(\"Finish!!\")"
   ]
  },
  {
   "cell_type": "markdown",
   "metadata": {
    "id": "znP5-Lz3_5tv"
   },
   "source": [
    "### Step 4b. Train Variational AutoEncoder (VAE)"
   ]
  },
  {
   "cell_type": "code",
   "execution_count": 13,
   "metadata": {
    "colab": {
     "base_uri": "https://localhost:8080/"
    },
    "id": "OeYXt_9s_5tv",
    "outputId": "38354454-6bb0-4712-e7aa-d8f634f67354"
   },
   "outputs": [
    {
     "name": "stdout",
     "output_type": "stream",
     "text": [
      "Start training VAE...\n",
      "\tEpoch 1 complete! \tAverage Loss:  213.19672129330132\n",
      "\tEpoch 11 complete! \tAverage Loss:  112.75909145450751\n",
      "\tEpoch 21 complete! \tAverage Loss:  105.01984371739357\n",
      "\tEpoch 31 complete! \tAverage Loss:  102.40270993648268\n",
      "\tEpoch 41 complete! \tAverage Loss:  100.8892554322308\n",
      "\tEpoch 51 complete! \tAverage Loss:  99.84760107992487\n",
      "\tEpoch 61 complete! \tAverage Loss:  99.09209228923206\n",
      "\tEpoch 71 complete! \tAverage Loss:  98.50303135434056\n",
      "\tEpoch 81 complete! \tAverage Loss:  97.9488358690265\n",
      "\tEpoch 91 complete! \tAverage Loss:  97.53780156054361\n",
      "\tEpoch 101 complete! \tAverage Loss:  97.1898854373174\n",
      "\tEpoch 111 complete! \tAverage Loss:  96.86940421535893\n",
      "\tEpoch 121 complete! \tAverage Loss:  96.63155006064795\n",
      "\tEpoch 131 complete! \tAverage Loss:  96.39661646363732\n",
      "\tEpoch 141 complete! \tAverage Loss:  96.1401504134495\n",
      "\tEpoch 151 complete! \tAverage Loss:  95.94302299079195\n",
      "\tEpoch 161 complete! \tAverage Loss:  95.79173969962959\n",
      "\tEpoch 171 complete! \tAverage Loss:  95.65057864996348\n",
      "\tEpoch 181 complete! \tAverage Loss:  95.52414010329716\n",
      "\tEpoch 191 complete! \tAverage Loss:  95.36432067769199\n",
      "\tEpoch 200 complete! \tAverage Loss:  95.26035286675709\n",
      "Finish!!\n"
     ]
    }
   ],
   "source": [
    "print(\"Start training VAE...\")\n",
    "vae_model.train()\n",
    "\n",
    "for epoch in range(epochs):\n",
    "    overall_loss = 0\n",
    "    for batch_idx, (x, _) in enumerate(train_loader):\n",
    "        x = x.view(batch_size, x_dim)\n",
    "        x = x.to(device)\n",
    "\n",
    "        vae_optimizer.zero_grad()\n",
    "\n",
    "        x_hat, mean, log_var = vae_model(x)\n",
    "        loss = vae_loss_function(x, x_hat, mean, log_var)\n",
    "\n",
    "        overall_loss += loss.item()\n",
    "\n",
    "        loss.backward() # loss minimization\n",
    "        vae_optimizer.step() # weight update\n",
    "\n",
    "    if (epoch%10 == 0) or (epoch == epochs-1):\n",
    "        print(\"\\tEpoch\", epoch + 1, \"complete!\", \"\\tAverage Loss: \", overall_loss / (batch_idx*batch_size))\n",
    "\n",
    "print(\"Finish!!\")\n"
   ]
  },
  {
   "cell_type": "markdown",
   "metadata": {
    "id": "7NacBk7w_5tw"
   },
   "source": [
    "### Step 5. Compare AE vs VAE models\n",
    "<ul>\n",
    "<li>Image reconstruction</li>\n",
    "<li>Continuity - a similar image should give a similar result</li>\n",
    "<li>Completeness - any latent space input should give a meaningful result</li></ul>"
   ]
  },
  {
   "cell_type": "code",
   "execution_count": 14,
   "metadata": {
    "id": "6TRdbaWd_5tw"
   },
   "outputs": [],
   "source": [
    "import matplotlib.pyplot as plt"
   ]
  },
  {
   "cell_type": "code",
   "execution_count": 15,
   "metadata": {
    "colab": {
     "base_uri": "https://localhost:8080/"
    },
    "id": "vvKy56OJ_5tw",
    "outputId": "14560e30-a3fc-4ab8-f3ab-3175a8031eb3"
   },
   "outputs": [
    {
     "name": "stderr",
     "output_type": "stream",
     "text": [
      "  0%|                                                   | 0/100 [00:00<?, ?it/s]/opt/anaconda3/lib/python3.9/site-packages/torch/utils/data/dataloader.py:684: UserWarning: 'pin_memory' argument is set as true but not supported on MPS now, then device pinned memory won't be used.\n",
      "  warnings.warn(warn_msg)\n",
      "  0%|                                                   | 0/100 [00:00<?, ?it/s]\n"
     ]
    }
   ],
   "source": [
    "vae_model.eval()\n",
    "ae_model.eval()\n",
    "# torch.no_grad -- disable gradient computation.\n",
    "with torch.no_grad():\n",
    "    for batch_idx, (x, _) in enumerate(tqdm(test_loader)):\n",
    "        x = x.view(batch_size, x_dim)\n",
    "        x = x.to(device)\n",
    "\n",
    "        x_hat_vae, _, _ = vae_model(x)\n",
    "        x_hat_ae = ae_model(x)\n",
    "        break"
   ]
  },
  {
   "cell_type": "markdown",
   "metadata": {},
   "source": [
    "### 5a. Compare original image against those encoded/decoded by the AE, VAE"
   ]
  },
  {
   "cell_type": "code",
   "execution_count": 16,
   "metadata": {
    "id": "fi__xGka_5tw"
   },
   "outputs": [],
   "source": [
    "# Show list of images in nrows, ncols\n",
    "def show_images(X, nrows=1, ncols=1, titles=[]):\n",
    "    fig = plt.figure()\n",
    "    for iter in range(len(X)):\n",
    "        plt.subplot(nrows, ncols, iter+1).imshow(X[iter].cpu().numpy())\n",
    "        try:\n",
    "            plt.title(titles[iter])\n",
    "            plt.axis('off')\n",
    "        except:\n",
    "            pass\n"
   ]
  },
  {
   "cell_type": "code",
   "execution_count": 17,
   "metadata": {
    "colab": {
     "base_uri": "https://localhost:8080/",
     "height": 430
    },
    "id": "4o1wlzbC_5tx",
    "outputId": "4fef5bf2-e09b-4e6f-ed27-3e67b6ef9410",
    "scrolled": true
   },
   "outputs": [
    {
     "data": {
      "image/png": "[encoded data removed]",
      "text/plain": [
       "<Figure size 640x480 with 3 Axes>"
      ]
     },
     "metadata": {},
     "output_type": "display_data"
    }
   ],
   "source": [
    "ix = 20\n",
    "images = [img.view(batch_size,28,28)[ix].cpu() for img in [x, x_hat_ae, x_hat_vae]]\n",
    "show_images(images, 1, 3, [\"orig\", \"AE\", \"VAE\"])"
   ]
  },
  {
   "cell_type": "markdown",
   "metadata": {},
   "source": [
    "So the auto-encoder does a better job at what it's supposed to do -- maintain image quality during compression and decompression."
   ]
  },
  {
   "cell_type": "markdown",
   "metadata": {},
   "source": [
    "### 5b. Latent space continuity\n",
    "Each image has values from 0-1. We will add random noise to the input image and see which encoder/decoder pair does a better job at returning an image most like the original."
   ]
  },
  {
   "cell_type": "code",
   "execution_count": 18,
   "metadata": {},
   "outputs": [
    {
     "name": "stderr",
     "output_type": "stream",
     "text": [
      "  0%|                                                   | 0/100 [00:00<?, ?it/s]\n"
     ]
    }
   ],
   "source": [
    "with torch.no_grad():\n",
    "    noise = (torch.randn(100,200) * 1.0).to(device)\n",
    "    for batch_idx, (x, _) in enumerate(tqdm(test_loader)):\n",
    "        x = x.view(batch_size, x_dim)\n",
    "        x = x.to(device)\n",
    "        x_ae_encoded = torch.clamp((ae_model.encoder(x) + noise)/2, min=0, max=1)\n",
    "        x_ae = ae_model.decoder(x_ae_encoded)\n",
    "        vae_mean, vae_log_var = vae_model.Encoder(x) \n",
    "        x_vae_encoded = torch.clamp((vae_model.reparameterization(vae_mean, torch.exp(0.5 * vae_log_var)) + noise)/2, min=0, max=1)\n",
    "        x_vae,_,_ = vae_model(vae_model.Decoder(x_vae_encoded))\n",
    "        break"
   ]
  },
  {
   "cell_type": "code",
   "execution_count": 19,
   "metadata": {},
   "outputs": [
    {
     "data": {
      "image/png": "[encoded data removed]",
      "text/plain": [
       "<Figure size 640x480 with 3 Axes>"
      ]
     },
     "metadata": {},
     "output_type": "display_data"
    },
    {
     "data": {
      "image/png": "[encoded data removed]",
      "text/plain": [
       "<Figure size 640x480 with 3 Axes>"
      ]
     },
     "metadata": {},
     "output_type": "display_data"
    },
    {
     "data": {
      "image/png": "[encoded data removed]",
      "text/plain": [
       "<Figure size 640x480 with 3 Axes>"
      ]
     },
     "metadata": {},
     "output_type": "display_data"
    },
    {
     "data": {
      "image/png": "[encoded data removed]",
      "text/plain": [
       "<Figure size 640x480 with 3 Axes>"
      ]
     },
     "metadata": {},
     "output_type": "display_data"
    }
   ],
   "source": [
    "for i in [5,10,15,20]:\n",
    "    noisey_images = [img.view(batch_size,28,28)[i].cpu() for img in [x, x_ae, x_vae]]\n",
    "    show_images(noisey_images, 1, 3, [\"orig\", \"AE\", \"VAE\"])"
   ]
  },
  {
   "cell_type": "markdown",
   "metadata": {},
   "source": [
    "Though neither encoder does particularly well, the VAE seems to keep the number shape better."
   ]
  },
  {
   "cell_type": "markdown",
   "metadata": {
    "id": "vPHI404f_5tx"
   },
   "source": [
    "### 5c. Latent space completeness"
   ]
  },
  {
   "cell_type": "markdown",
   "metadata": {
    "id": "Va2_ZHb6_5tx"
   },
   "source": [
    "**Please note that this is not the correct generative process.**\n",
    "\n",
    "* Even if we don't know exact p(z|x), we can generate images from noise, since the loss function of training VAE regulates the q(z|x) (simple and tractable posteriors) must close enough to N(0, I). If q(z|x) is close to N(0, I) \"enough\"(but not tightly close due to posterior collapse problem), N(0, I) may replace the encoder of VAE.\n"
   ]
  },
  {
   "cell_type": "code",
   "execution_count": 20,
   "metadata": {
    "id": "jcFiMuJD_5tx"
   },
   "outputs": [],
   "source": [
    "with torch.no_grad():\n",
    "    noise = torch.rand(batch_size, latent_dim).to(device)\n",
    "    vae_generated_image = vae_decoder(noise)\n",
    "    ae_generated_image = ae_decoder(noise)"
   ]
  },
  {
   "cell_type": "code",
   "execution_count": 21,
   "metadata": {
    "id": "1BE_q30m_5tx"
   },
   "outputs": [],
   "source": [
    "#save_image(generated_images.view(batch_size, 1, 28, 28), 'generated_sample.png')"
   ]
  },
  {
   "cell_type": "code",
   "execution_count": 22,
   "metadata": {
    "colab": {
     "base_uri": "https://localhost:8080/",
     "height": 430
    },
    "id": "EC1Bl7fr_5tx",
    "outputId": "dd352113-0f68-48b3-9f4a-d7baac16fcde"
   },
   "outputs": [
    {
     "data": {
      "image/png": "[encoded data removed]",
      "text/plain": [
       "<Figure size 640x480 with 2 Axes>"
      ]
     },
     "metadata": {},
     "output_type": "display_data"
    },
    {
     "data": {
      "image/png": "[encoded data removed]",
      "text/plain": [
       "<Figure size 640x480 with 2 Axes>"
      ]
     },
     "metadata": {},
     "output_type": "display_data"
    },
    {
     "data": {
      "image/png": "[encoded data removed]",
      "text/plain": [
       "<Figure size 640x480 with 2 Axes>"
      ]
     },
     "metadata": {},
     "output_type": "display_data"
    },
    {
     "data": {
      "image/png": "[encoded data removed]",
      "text/plain": [
       "<Figure size 640x480 with 2 Axes>"
      ]
     },
     "metadata": {},
     "output_type": "display_data"
    }
   ],
   "source": [
    "for i in [5,10,15,20]:\n",
    "    images = [img.view(batch_size,28,28)[i].cpu() for img in [ae_generated_image, vae_generated_image]]\n",
    "    show_images(images, 1, 2, [ \"AE\", \"VAE\"])\n"
   ]
  },
  {
   "cell_type": "markdown",
   "metadata": {},
   "source": [
    "Aha! This is the value in VAEs; they learn the underlying shape of images even though there was no information on the input. This is why VAEs are so useful in generative AI."
   ]
  },
  {
   "cell_type": "code",
   "execution_count": null,
   "metadata": {},
   "outputs": [],
   "source": []
  }
 ],
 "metadata": {
  "accelerator": "GPU",
  "colab": {
   "gpuType": "A100",
   "machine_shape": "hm",
   "provenance": []
  },
  "kernelspec": {
   "display_name": "Python 3 (ipykernel)",
   "language": "python",
   "name": "python3"
  },
  "language_info": {
   "codemirror_mode": {
    "name": "ipython",
    "version": 3
   },
   "file_extension": ".py",
   "mimetype": "text/x-python",
   "name": "python",
   "nbconvert_exporter": "python",
   "pygments_lexer": "ipython3",
   "version": "3.9.23"
  }
 },
 "nbformat": 4,
 "nbformat_minor": 4
}
